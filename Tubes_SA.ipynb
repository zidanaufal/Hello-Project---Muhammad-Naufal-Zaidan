{
  "cells": [
    {
      "cell_type": "markdown",
      "metadata": {
        "id": "view-in-github",
        "colab_type": "text"
      },
      "source": [
        "<a href=\"https://colab.research.google.com/github/zidanaufal/Hello-Project---Muhammad-Naufal-Zaidan/blob/main/Tubes_SA.ipynb\" target=\"_parent\"><img src=\"https://colab.research.google.com/assets/colab-badge.svg\" alt=\"Open In Colab\"/></a>"
      ]
    },
    {
      "cell_type": "markdown",
      "metadata": {
        "id": "75qoreMPIHQg"
      },
      "source": [
        "## LIBRARY"
      ]
    },
    {
      "cell_type": "code",
      "execution_count": 15,
      "metadata": {
        "id": "lz43AssrJX9s"
      },
      "outputs": [],
      "source": [
        "import pandas as pd\n",
        "import numpy as np\n",
        "import time"
      ]
    },
    {
      "cell_type": "code",
      "execution_count": 16,
      "metadata": {
        "id": "ZShpMzGTJUiN"
      },
      "outputs": [],
      "source": [
        "#import io\n",
        "data = pd.ExcelFile('Restoran.xlsx')\n",
        "Bandung = pd. read_excel(data, 'Bandung')\n",
        "Jakarta = pd. read_excel(data, 'Jakarta')\n",
        "Yogyakarta = pd. read_excel(data, 'Yogyakarta')\n",
        "Semarang = pd. read_excel(data, 'Semarang')\n",
        "all = pd.read_excel(data, 'all')"
      ]
    },
    {
      "cell_type": "markdown",
      "metadata": {
        "id": "Sn0RooZovGJG"
      },
      "source": [
        "## **Choosing Domisili**"
      ]
    },
    {
      "cell_type": "code",
      "execution_count": 17,
      "metadata": {
        "id": "r9rzE9ob8mXd"
      },
      "outputs": [],
      "source": [
        "def choose(domisili):\n",
        "  if domisili == 'Bandung' or domisili == 'Bandung':\n",
        "    return Bandung\n",
        "  elif domisili == 'Jakarta' or domisili == 'Jakarta':\n",
        "    return Jakarta\n",
        "  elif domisili == 'Yogyakarta' or domisili == 'Yogyakarta':\n",
        "    return Yogyakarta\n",
        "  elif domisili == 'Semarang' or domisili == 'Semarang':\n",
        "    return Semarang\n",
        "  elif domisili == 'all' or domisili == 'all':\n",
        "    return all"
      ]
    },
    {
      "cell_type": "markdown",
      "metadata": {
        "id": "Ya9RyVz620uA"
      },
      "source": [
        "## Divide and Conquer"
      ]
    },
    {
      "cell_type": "code",
      "execution_count": 18,
      "metadata": {
        "id": "nktWz1GKvZgx"
      },
      "outputs": [],
      "source": [
        "# implementasi MergeSort(Divide and Conquer)\n",
        "def divideNconquer(arr):\n",
        "    if len(arr) > 1:\n",
        "        # mencari mid dari array\n",
        "        mid = len(arr)//2\n",
        "        # membagi elements array\n",
        "        L = arr[:mid]\n",
        "        # menjadi 2 bagian\n",
        "        R = arr[mid:]\n",
        "        # Sorting bagian pertama\n",
        "        divideNconquer(L)\n",
        "        # Sorting bagian kedua\n",
        "        divideNconquer(R)\n",
        "        i = j = k = 0\n",
        "        # Copy data ke temp arrays L[] dan R[]\n",
        "        while i < len(L) and j < len(R):\n",
        "            if L[i][2] > R[j][2]:\n",
        "                arr[k] = L[i]\n",
        "                i += 1\n",
        "            else:\n",
        "                arr[k] = R[j]\n",
        "                j += 1\n",
        "            k += 1\n",
        "          # Checking jika ada element yang tertinggal\n",
        "        while i < len(L):\n",
        "            arr[k] = L[i]\n",
        "            i += 1\n",
        "            k += 1\n",
        "        while j < len(R):\n",
        "            arr[k] = R[j]\n",
        "            j += 1\n",
        "            k += 1\n",
        "def printList(arr, mon):\n",
        "    for i in range(len(arr)):\n",
        "        print(\"\\n\",i+1, arr[i], end=\" \")\n",
        "    print()\n",
        "    restoran(arr, mon)\n",
        "    start_time = time.time()\n",
        "    print(\"\\n --- %s seconds ---\" % (time.time() - start_time))"
      ]
    },
    {
      "cell_type": "markdown",
      "metadata": {
        "id": "pnHs0MuN2wUG"
      },
      "source": [
        "## Greedy"
      ]
    },
    {
      "cell_type": "code",
      "execution_count": 19,
      "metadata": {
        "id": "2aVkVGQ5v8JK"
      },
      "outputs": [],
      "source": [
        "# implementasi SelectionSort(Greedy)\n",
        "def greedy(arr, mon):\n",
        "# Traverse through all array elements\n",
        "  for i in range(len(arr)):      \n",
        "      # mencari minimum element yang tersisa\n",
        "      # array yang belum disort\n",
        "      min_idx = i\n",
        "      for j in range(i+1, len(arr)):\n",
        "          if arr[min_idx][2] < arr[j][2]:\n",
        "              min_idx = j\n",
        "      # menukar element minimum dengan element pertama      \n",
        "      arr[i], arr[min_idx] = arr[min_idx], arr[i]\n",
        "      \n",
        "  print(\"Array yang sudah diurutkan: \")\n",
        "  for i in range(len(arr)):\n",
        "      print(i+1, arr[i])\n",
        "  print()\n",
        "  restoran(arr, mon)\n",
        "  start_time = time.time()\n",
        "  print(\"\\n --- %s seconds ---\" % (time.time() - start_time))"
      ]
    },
    {
      "cell_type": "markdown",
      "metadata": {
        "id": "rCQsh-IRj6Gk"
      },
      "source": [
        "## **Selection With Knapsack**"
      ]
    },
    {
      "cell_type": "code",
      "execution_count": 20,
      "metadata": {
        "id": "YLlVE4xlnb-S"
      },
      "outputs": [],
      "source": [
        "def restoran(array, cap):\n",
        "  hasil=[]\n",
        "  total = 0\n",
        "  for i in range(len(array)):\n",
        "    if cap >= array[i][3] and cap!=0:\n",
        "      cap = cap - array[i][3]\n",
        "      hasil.append(array[i])\n",
        "      total += array[i][3]\n",
        "  print(\"\\n Rekomendasi Restoran :\")\n",
        "  for i in range(len(hasil)):\n",
        "        print(\" \",i+1, hasil[i], end=\" \")\n",
        "  print()\n",
        "  print(\"\\n Total Pengeluaran : \", total)"
      ]
    },
    {
      "cell_type": "code",
      "execution_count": 21,
      "metadata": {
        "colab": {
          "base_uri": "https://localhost:8080/"
        },
        "id": "1Pefxuu53ko8",
        "outputId": "f7318116-0a77-4358-b493-4885b5ae0525"
      },
      "outputs": [
        {
          "output_type": "stream",
          "name": "stdout",
          "text": [
            "Bandung, Jakarta, Yogyakarta , Semarang, all\n",
            "Pilih Domisili : all\n",
            "Harga : 88992\n",
            "Pilih Metode \n",
            " Divide n Conquer(1) Greedy(2) : 2\n",
            "Array yang sudah diurutkan: \n",
            "1 ['Fashion E Pasta' 'Bandung' 5.0 97954.0]\n",
            "2 ['Atmosphere Resort Café' 'Bandung' 5.0 95854.0]\n",
            "3 ['The Restaurant – Hotel Padma' 'Bandung' 5.0 92077.0]\n",
            "4 ['Saka Bistro & Bar' 'Bandung' 5.0 91021.0]\n",
            "5 ['Kahyangan Restaurant' 'Jakarta' 5.0 137460.0]\n",
            "6 ['Canting Restaurant Galeria Mall' 'Yogyakarta' 5.0 90573.0]\n",
            "7 ['Goodfellas' 'Semarang' 5.0 86924.0]\n",
            "8 ['Belle Vue Rooftop 24 Hours French & Italian Bistro' 'Bandung' 4.5\n",
            " 81136.0]\n",
            "9 ['Jing Paradise Chinese Fine Dining Restaurant' 'Bandung' 4.5 88792.0]\n",
            "10 ['Ruth’s Chris Steak House' 'Jakarta' 4.5 128193.0]\n",
            "11 ['The Neighbourhood (Eastern Opulence Restaurant)' 'Jakarta' 4.5 127608.0]\n",
            "12 ['Amuz Gourmet SCBD' 'Jakarta' 4.5 124656.0]\n",
            "13 ['Sofia at Gunawarman' 'Jakarta' 4.5 119883.0]\n",
            "14 ['Namaaz Dining' 'Jakarta' 4.5 114122.0]\n",
            "15 ['Bottega Ristorante' 'Jakarta' 4.5 94773.0]\n",
            "16 ['Hakkasan Fine Dining Jakarta' 'Jakarta' 4.5 75271.0]\n",
            "17 ['Vong Kitchen' 'Jakarta' 4.5 57482.0]\n",
            "18 ['Henshin Restaurant' 'Jakarta' 4.5 53831.0]\n",
            "19 ['The Heritage Kitchen & Gallery' 'Bandung' 4.5 83053.0]\n",
            "20 ['Six Senses Restaurant' 'Yogyakarta' 4.5 82481.0]\n",
            "21 ['ViaVia Restaurant Jogja' 'Yogyakarta' 4.5 79030.0]\n",
            "22 ['Bale Raos – The Sultan’s Dishes' 'Yogyakarta' 4.5 78965.0]\n",
            "23 ['Nanamia Pizzeria Café' 'Yogyakarta' 4.5 78597.0]\n",
            "24 ['Mediterranea Restaurant by Kamil' 'Yogyakarta' 4.5 66559.0]\n",
            "25 ['Gubug Makan Mang Engking Soragan Castle' 'Yogyakarta' 4.5 63857.0]\n",
            "26 ['R&B Grill Yogyakarta' 'Yogyakarta' 4.5 44421.0]\n",
            "27 ['Bilik Kayu Heritage Resto' 'Yogyakarta' 4.5 41100.0]\n",
            "28 ['The House of Raminten' 'Yogyakarta' 4.5 36943.0]\n",
            "29 ['Bilbao Brasserie Restaurant' 'Bandung' 4.5 82375.0]\n",
            "30 ['Nestcology' 'Semarang' 4.5 84102.0]\n",
            "31 ['The Ribs and Dips' 'Semarang' 4.5 82474.0]\n",
            "32 ['Rustico' 'Semarang' 4.5 81273.0]\n",
            "33 ['The Tavern' 'Semarang' 4.5 74444.0]\n",
            "34 ['Holiday Restaurant' 'Semarang' 4.5 67971.0]\n",
            "35 ['Sky Line – Lounge & Exclusive Dining' 'Semarang' 4.5 61487.0]\n",
            "36 ['St. Lawrence Dining' 'Semarang' 4.5 59760.0]\n",
            "37 ['The Hills Dining Restaurant Semarang' 'Semarang' 4.5 47157.0]\n",
            "38 ['Bowery Semarang' 'Semarang' 4.5 40933.0]\n",
            "39 ['Skyline Best View Resto' 'Bandung' 4.0 74425.0]\n",
            "40 ['The Stone Café Bandung' 'Bandung' 4.0 79034.0]\n",
            "41 ['Gormeteria Café Bandung' 'Bandung' 4.0 75686.0]\n",
            "42 ['Congo Gallery & Café' 'Bandung' 3.5 60145.0]\n",
            "43 ['Miss Bee Providore Cafe' 'Bandung' 3.5 50023.0]\n",
            "44 ['Maxi’s Resto Bandung' 'Bandung' 3.5 71492.0]\n",
            "45 ['The Valley Bistro Café' 'Bandung' 3.5 67953.0]\n",
            "\n",
            "\n",
            " Rekomendasi Restoran :\n",
            "  1 ['Goodfellas' 'Semarang' 5.0 86924.0] \n",
            "\n",
            " Total Pengeluaran :  86924.0\n",
            "\n",
            " --- 7.152557373046875e-07 seconds ---\n"
          ]
        }
      ],
      "source": [
        "print(\"Bandung, Jakarta, Yogyakarta , Semarang, all\")\n",
        "domisili = str(input(\"Pilih Domisili : \"))\n",
        "arr = np.array(choose(domisili))\n",
        "dnc, grd = [], []\n",
        "for count in range(len(arr)):\n",
        "  dnc.append(arr[count])\n",
        "  grd.append(arr[count])\n",
        "price = int(input(\"Harga : \"))\n",
        "number = int(input(\"Pilih Metode \\n Divide n Conquer(1) Greedy(2) : \"))\n",
        "if number == 1:\n",
        "  divideNconquer(dnc)\n",
        "  print(\"Array yang sudah: \")\n",
        "  printList(dnc, price)\n",
        "elif number == 2:\n",
        "  greedy(grd, price)"
      ]
    },
    {
      "cell_type": "markdown",
      "metadata": {
        "id": "-IJ7TbJchBsP"
      },
      "source": [
        ""
      ]
    }
  ],
  "metadata": {
    "colab": {
      "collapsed_sections": [],
      "name": "Tubes_SA.ipynb",
      "provenance": [],
      "include_colab_link": true
    },
    "kernelspec": {
      "display_name": "Python 3",
      "language": "python",
      "name": "python3"
    },
    "language_info": {
      "codemirror_mode": {
        "name": "ipython",
        "version": 3
      },
      "file_extension": ".py",
      "mimetype": "text/x-python",
      "name": "python",
      "nbconvert_exporter": "python",
      "pygments_lexer": "ipython3",
      "version": "3.8.5"
    }
  },
  "nbformat": 4,
  "nbformat_minor": 0
}